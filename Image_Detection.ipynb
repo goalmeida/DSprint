{
  "nbformat": 4,
  "nbformat_minor": 0,
  "metadata": {
    "kernelspec": {
      "display_name": "Python 3",
      "language": "python",
      "name": "python3"
    },
    "language_info": {
      "codemirror_mode": {
        "name": "ipython",
        "version": 3
      },
      "file_extension": ".py",
      "mimetype": "text/x-python",
      "name": "python",
      "nbconvert_exporter": "python",
      "pygments_lexer": "ipython3",
      "version": "3.7.6"
    },
    "colab": {
      "name": "Image Detection.ipynb",
      "provenance": [],
      "collapsed_sections": []
    }
  },
  "cells": [
    {
      "cell_type": "code",
      "metadata": {
        "id": "NvhSzwU-wqIo",
        "colab_type": "code",
        "colab": {
          "base_uri": "https://localhost:8080/",
          "height": 505
        },
        "outputId": "142ab809-e43f-4a78-8831-a5499884c946"
      },
      "source": [
        "!pip install google-cloud-vision\n"
      ],
      "execution_count": 8,
      "outputs": [
        {
          "output_type": "stream",
          "text": [
            "Collecting google-cloud-vision\n",
            "\u001b[?25l  Downloading https://files.pythonhosted.org/packages/0d/7f/e10d602c2dc3f749f1b78377a3357790f1da71b28e7da9e5bc20b3a9bd40/google_cloud_vision-1.0.0-py2.py3-none-any.whl (435kB)\n",
            "\r\u001b[K     |▊                               | 10kB 19.2MB/s eta 0:00:01\r\u001b[K     |█▌                              | 20kB 1.7MB/s eta 0:00:01\r\u001b[K     |██▎                             | 30kB 2.3MB/s eta 0:00:01\r\u001b[K     |███                             | 40kB 1.7MB/s eta 0:00:01\r\u001b[K     |███▊                            | 51kB 1.9MB/s eta 0:00:01\r\u001b[K     |████▌                           | 61kB 2.2MB/s eta 0:00:01\r\u001b[K     |█████▎                          | 71kB 2.4MB/s eta 0:00:01\r\u001b[K     |██████                          | 81kB 2.5MB/s eta 0:00:01\r\u001b[K     |██████▉                         | 92kB 2.8MB/s eta 0:00:01\r\u001b[K     |███████▌                        | 102kB 2.7MB/s eta 0:00:01\r\u001b[K     |████████▎                       | 112kB 2.7MB/s eta 0:00:01\r\u001b[K     |█████████                       | 122kB 2.7MB/s eta 0:00:01\r\u001b[K     |█████████▉                      | 133kB 2.7MB/s eta 0:00:01\r\u001b[K     |██████████▌                     | 143kB 2.7MB/s eta 0:00:01\r\u001b[K     |███████████▎                    | 153kB 2.7MB/s eta 0:00:01\r\u001b[K     |████████████                    | 163kB 2.7MB/s eta 0:00:01\r\u001b[K     |████████████▉                   | 174kB 2.7MB/s eta 0:00:01\r\u001b[K     |█████████████▋                  | 184kB 2.7MB/s eta 0:00:01\r\u001b[K     |██████████████▎                 | 194kB 2.7MB/s eta 0:00:01\r\u001b[K     |███████████████                 | 204kB 2.7MB/s eta 0:00:01\r\u001b[K     |███████████████▉                | 215kB 2.7MB/s eta 0:00:01\r\u001b[K     |████████████████▋               | 225kB 2.7MB/s eta 0:00:01\r\u001b[K     |█████████████████▎              | 235kB 2.7MB/s eta 0:00:01\r\u001b[K     |██████████████████              | 245kB 2.7MB/s eta 0:00:01\r\u001b[K     |██████████████████▉             | 256kB 2.7MB/s eta 0:00:01\r\u001b[K     |███████████████████▋            | 266kB 2.7MB/s eta 0:00:01\r\u001b[K     |████████████████████▍           | 276kB 2.7MB/s eta 0:00:01\r\u001b[K     |█████████████████████           | 286kB 2.7MB/s eta 0:00:01\r\u001b[K     |█████████████████████▉          | 296kB 2.7MB/s eta 0:00:01\r\u001b[K     |██████████████████████▋         | 307kB 2.7MB/s eta 0:00:01\r\u001b[K     |███████████████████████▍        | 317kB 2.7MB/s eta 0:00:01\r\u001b[K     |████████████████████████        | 327kB 2.7MB/s eta 0:00:01\r\u001b[K     |████████████████████████▉       | 337kB 2.7MB/s eta 0:00:01\r\u001b[K     |█████████████████████████▋      | 348kB 2.7MB/s eta 0:00:01\r\u001b[K     |██████████████████████████▍     | 358kB 2.7MB/s eta 0:00:01\r\u001b[K     |███████████████████████████▏    | 368kB 2.7MB/s eta 0:00:01\r\u001b[K     |███████████████████████████▉    | 378kB 2.7MB/s eta 0:00:01\r\u001b[K     |████████████████████████████▋   | 389kB 2.7MB/s eta 0:00:01\r\u001b[K     |█████████████████████████████▍  | 399kB 2.7MB/s eta 0:00:01\r\u001b[K     |██████████████████████████████▏ | 409kB 2.7MB/s eta 0:00:01\r\u001b[K     |██████████████████████████████▉ | 419kB 2.7MB/s eta 0:00:01\r\u001b[K     |███████████████████████████████▋| 430kB 2.7MB/s eta 0:00:01\r\u001b[K     |████████████████████████████████| 440kB 2.7MB/s \n",
            "\u001b[?25hRequirement already satisfied: google-api-core[grpc]<2.0.0dev,>=1.14.0 in /usr/local/lib/python3.6/dist-packages (from google-cloud-vision) (1.16.0)\n",
            "Requirement already satisfied: googleapis-common-protos<2.0dev,>=1.6.0 in /usr/local/lib/python3.6/dist-packages (from google-api-core[grpc]<2.0.0dev,>=1.14.0->google-cloud-vision) (1.51.0)\n",
            "Requirement already satisfied: pytz in /usr/local/lib/python3.6/dist-packages (from google-api-core[grpc]<2.0.0dev,>=1.14.0->google-cloud-vision) (2018.9)\n",
            "Requirement already satisfied: setuptools>=34.0.0 in /usr/local/lib/python3.6/dist-packages (from google-api-core[grpc]<2.0.0dev,>=1.14.0->google-cloud-vision) (46.1.3)\n",
            "Requirement already satisfied: protobuf>=3.4.0 in /usr/local/lib/python3.6/dist-packages (from google-api-core[grpc]<2.0.0dev,>=1.14.0->google-cloud-vision) (3.10.0)\n",
            "Requirement already satisfied: google-auth<2.0dev,>=0.4.0 in /usr/local/lib/python3.6/dist-packages (from google-api-core[grpc]<2.0.0dev,>=1.14.0->google-cloud-vision) (1.7.2)\n",
            "Requirement already satisfied: requests<3.0.0dev,>=2.18.0 in /usr/local/lib/python3.6/dist-packages (from google-api-core[grpc]<2.0.0dev,>=1.14.0->google-cloud-vision) (2.23.0)\n",
            "Requirement already satisfied: six>=1.10.0 in /usr/local/lib/python3.6/dist-packages (from google-api-core[grpc]<2.0.0dev,>=1.14.0->google-cloud-vision) (1.12.0)\n",
            "Requirement already satisfied: grpcio<2.0dev,>=1.8.2; extra == \"grpc\" in /usr/local/lib/python3.6/dist-packages (from google-api-core[grpc]<2.0.0dev,>=1.14.0->google-cloud-vision) (1.28.1)\n",
            "Requirement already satisfied: rsa<4.1,>=3.1.4 in /usr/local/lib/python3.6/dist-packages (from google-auth<2.0dev,>=0.4.0->google-api-core[grpc]<2.0.0dev,>=1.14.0->google-cloud-vision) (4.0)\n",
            "Requirement already satisfied: cachetools<3.2,>=2.0.0 in /usr/local/lib/python3.6/dist-packages (from google-auth<2.0dev,>=0.4.0->google-api-core[grpc]<2.0.0dev,>=1.14.0->google-cloud-vision) (3.1.1)\n",
            "Requirement already satisfied: pyasn1-modules>=0.2.1 in /usr/local/lib/python3.6/dist-packages (from google-auth<2.0dev,>=0.4.0->google-api-core[grpc]<2.0.0dev,>=1.14.0->google-cloud-vision) (0.2.8)\n",
            "Requirement already satisfied: chardet<4,>=3.0.2 in /usr/local/lib/python3.6/dist-packages (from requests<3.0.0dev,>=2.18.0->google-api-core[grpc]<2.0.0dev,>=1.14.0->google-cloud-vision) (3.0.4)\n",
            "Requirement already satisfied: urllib3!=1.25.0,!=1.25.1,<1.26,>=1.21.1 in /usr/local/lib/python3.6/dist-packages (from requests<3.0.0dev,>=2.18.0->google-api-core[grpc]<2.0.0dev,>=1.14.0->google-cloud-vision) (1.24.3)\n",
            "Requirement already satisfied: certifi>=2017.4.17 in /usr/local/lib/python3.6/dist-packages (from requests<3.0.0dev,>=2.18.0->google-api-core[grpc]<2.0.0dev,>=1.14.0->google-cloud-vision) (2020.4.5.1)\n",
            "Requirement already satisfied: idna<3,>=2.5 in /usr/local/lib/python3.6/dist-packages (from requests<3.0.0dev,>=2.18.0->google-api-core[grpc]<2.0.0dev,>=1.14.0->google-cloud-vision) (2.9)\n",
            "Requirement already satisfied: pyasn1>=0.1.3 in /usr/local/lib/python3.6/dist-packages (from rsa<4.1,>=3.1.4->google-auth<2.0dev,>=0.4.0->google-api-core[grpc]<2.0.0dev,>=1.14.0->google-cloud-vision) (0.4.8)\n",
            "Installing collected packages: google-cloud-vision\n",
            "Successfully installed google-cloud-vision-1.0.0\n"
          ],
          "name": "stdout"
        },
        {
          "output_type": "display_data",
          "data": {
            "application/vnd.colab-display-data+json": {
              "pip_warning": {
                "packages": [
                  "google"
                ]
              }
            }
          },
          "metadata": {
            "tags": []
          }
        }
      ]
    },
    {
      "cell_type": "code",
      "metadata": {
        "id": "dehDtS0cwqI6",
        "colab_type": "code",
        "colab": {}
      },
      "source": [
        "from google.cloud import vision"
      ],
      "execution_count": 0,
      "outputs": []
    },
    {
      "cell_type": "code",
      "metadata": {
        "id": "e9dbj0t_wqJJ",
        "colab_type": "code",
        "colab": {}
      },
      "source": [
        "import io\n",
        "import os"
      ],
      "execution_count": 0,
      "outputs": []
    },
    {
      "cell_type": "code",
      "metadata": {
        "id": "fjehgS_JwqJa",
        "colab_type": "code",
        "colab": {}
      },
      "source": [
        "from google.cloud.vision import types\n",
        "os.environ['GOOGLE_APPLICATION_CREDENTIALS'] ='vision.json'\n"
      ],
      "execution_count": 0,
      "outputs": []
    },
    {
      "cell_type": "code",
      "metadata": {
        "id": "MW8HsWDfwqJn",
        "colab_type": "code",
        "colab": {}
      },
      "source": [
        "client = vision.ImageAnnotatorClient()"
      ],
      "execution_count": 0,
      "outputs": []
    },
    {
      "cell_type": "code",
      "metadata": {
        "id": "ZtE-vX2HwqJu",
        "colab_type": "code",
        "colab": {}
      },
      "source": [
        "file_name = os.path.abspath('download2.jpg')"
      ],
      "execution_count": 0,
      "outputs": []
    },
    {
      "cell_type": "code",
      "metadata": {
        "id": "b9fH3cejwqJ8",
        "colab_type": "code",
        "colab": {}
      },
      "source": [
        "with io.open(file_name, 'rb') as image_file:\n",
        "    content = image_file.read()"
      ],
      "execution_count": 0,
      "outputs": []
    },
    {
      "cell_type": "code",
      "metadata": {
        "id": "CpkvhxGCwqKM",
        "colab_type": "code",
        "colab": {}
      },
      "source": [
        "image = types.Image(content=content)"
      ],
      "execution_count": 0,
      "outputs": []
    },
    {
      "cell_type": "code",
      "metadata": {
        "id": "2QGBMn5swqKc",
        "colab_type": "code",
        "colab": {}
      },
      "source": [
        "response = client.label_detection(image=image)\n",
        "labels = response.label_annotations"
      ],
      "execution_count": 0,
      "outputs": []
    },
    {
      "cell_type": "code",
      "metadata": {
        "id": "R4ly6CcewqKx",
        "colab_type": "code",
        "colab": {
          "base_uri": "https://localhost:8080/",
          "height": 208
        },
        "outputId": "a3cf4ae2-ecd6-43f4-d5a9-0876ae633fbd"
      },
      "source": [
        "print('Labels:')\n",
        "for label in labels:\n",
        "    print(label.description)"
      ],
      "execution_count": 31,
      "outputs": [
        {
          "output_type": "stream",
          "text": [
            "Labels:\n",
            "Hair\n",
            "Face\n",
            "Skin\n",
            "Hairstyle\n",
            "Beauty\n",
            "Chin\n",
            "Head\n",
            "Afro\n",
            "Eyebrow\n",
            "Smile\n"
          ],
          "name": "stdout"
        }
      ]
    },
    {
      "cell_type": "code",
      "metadata": {
        "id": "M8zru3bAwqLL",
        "colab_type": "code",
        "colab": {
          "base_uri": "https://localhost:8080/",
          "height": 1000
        },
        "outputId": "af719d81-4a69-4d99-96f6-29f2cb4f2e97"
      },
      "source": [
        "print(response)"
      ],
      "execution_count": 32,
      "outputs": [
        {
          "output_type": "stream",
          "text": [
            "label_annotations {\n",
            "  mid: \"/m/03q69\"\n",
            "  description: \"Hair\"\n",
            "  score: 0.9914836287498474\n",
            "  topicality: 0.9914836287498474\n",
            "}\n",
            "label_annotations {\n",
            "  mid: \"/m/0dzct\"\n",
            "  description: \"Face\"\n",
            "  score: 0.9836323261260986\n",
            "  topicality: 0.9836323261260986\n",
            "}\n",
            "label_annotations {\n",
            "  mid: \"/m/06z04\"\n",
            "  description: \"Skin\"\n",
            "  score: 0.9707971811294556\n",
            "  topicality: 0.9707971811294556\n",
            "}\n",
            "label_annotations {\n",
            "  mid: \"/m/0ds4x\"\n",
            "  description: \"Hairstyle\"\n",
            "  score: 0.9600222706794739\n",
            "  topicality: 0.9600222706794739\n",
            "}\n",
            "label_annotations {\n",
            "  mid: \"/m/01f43\"\n",
            "  description: \"Beauty\"\n",
            "  score: 0.8998408317565918\n",
            "  topicality: 0.8998408317565918\n",
            "}\n",
            "label_annotations {\n",
            "  mid: \"/m/0f9swq\"\n",
            "  description: \"Chin\"\n",
            "  score: 0.8893871307373047\n",
            "  topicality: 0.8893871307373047\n",
            "}\n",
            "label_annotations {\n",
            "  mid: \"/m/04hgtk\"\n",
            "  description: \"Head\"\n",
            "  score: 0.8762359619140625\n",
            "  topicality: 0.8762359619140625\n",
            "}\n",
            "label_annotations {\n",
            "  mid: \"/m/03n0sf\"\n",
            "  description: \"Afro\"\n",
            "  score: 0.868710458278656\n",
            "  topicality: 0.868710458278656\n",
            "}\n",
            "label_annotations {\n",
            "  mid: \"/m/027n3_\"\n",
            "  description: \"Eyebrow\"\n",
            "  score: 0.8639556765556335\n",
            "  topicality: 0.8639556765556335\n",
            "}\n",
            "label_annotations {\n",
            "  mid: \"/m/019nj4\"\n",
            "  description: \"Smile\"\n",
            "  score: 0.8597570061683655\n",
            "  topicality: 0.8597570061683655\n",
            "}\n",
            "\n"
          ],
          "name": "stdout"
        }
      ]
    },
    {
      "cell_type": "code",
      "metadata": {
        "id": "qRgYAFCEwqLc",
        "colab_type": "code",
        "colab": {}
      },
      "source": [
        "objects = client.object_localization(image=image).localized_object_annotations"
      ],
      "execution_count": 0,
      "outputs": []
    },
    {
      "cell_type": "code",
      "metadata": {
        "id": "pPO1Tn93wqL7",
        "colab_type": "code",
        "colab": {
          "base_uri": "https://localhost:8080/",
          "height": 399
        },
        "outputId": "91b91850-cd0a-4c2e-d0f9-131424933e95"
      },
      "source": [
        " print('Number of objects found: {}'.format(len(objects)))\n",
        "\n",
        " for object_ in objects:\n",
        "        print('\\n{} (confidence: {})'.format(object_.name, object_.score))\n",
        "        print('Normalized bounding polygon vertices: ')\n",
        "        for vertex in object_.bounding_poly.normalized_vertices:\n",
        "            print(' - ({}, {})'.format(vertex.x, vertex.y))"
      ],
      "execution_count": 39,
      "outputs": [
        {
          "output_type": "stream",
          "text": [
            "Number of objects found: 3\n",
            "\n",
            "Person (confidence: 0.794006884098053)\n",
            "Normalized bounding polygon vertices: \n",
            " - (0.026607690379023552, 0.007554089650511742)\n",
            " - (0.742691695690155, 0.007554089650511742)\n",
            " - (0.742691695690155, 0.9919244647026062)\n",
            " - (0.026607690379023552, 0.9919244647026062)\n",
            "\n",
            "Hat (confidence: 0.6404972672462463)\n",
            "Normalized bounding polygon vertices: \n",
            " - (0.03936000540852547, 0.005433529149740934)\n",
            " - (0.6962651610374451, 0.005433529149740934)\n",
            " - (0.6962651610374451, 0.6864166259765625)\n",
            " - (0.03936000540852547, 0.6864166259765625)\n",
            "\n",
            "Clothing (confidence: 0.5444544553756714)\n",
            "Normalized bounding polygon vertices: \n",
            " - (0.1806151121854782, 0.7085739970207214)\n",
            " - (0.54267418384552, 0.7085739970207214)\n",
            " - (0.54267418384552, 0.9972457885742188)\n",
            " - (0.1806151121854782, 0.9972457885742188)\n"
          ],
          "name": "stdout"
        }
      ]
    },
    {
      "cell_type": "code",
      "metadata": {
        "id": "AmcgwE03wqMK",
        "colab_type": "code",
        "colab": {}
      },
      "source": [
        ""
      ],
      "execution_count": 0,
      "outputs": []
    }
  ]
}