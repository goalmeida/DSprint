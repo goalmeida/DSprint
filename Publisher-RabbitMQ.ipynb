{
 "cells": [
  {
   "cell_type": "code",
   "execution_count": 1,
   "metadata": {},
   "outputs": [
    {
     "name": "stdout",
     "output_type": "stream",
     "text": [
      "Collecting pika\n",
      "  Downloading pika-1.1.0-py2.py3-none-any.whl (148 kB)\n",
      "Installing collected packages: pika\n",
      "Successfully installed pika-1.1.0\n",
      "Note: you may need to restart the kernel to use updated packages.\n"
     ]
    }
   ],
   "source": [
    "%pip install pika"
   ]
  },
  {
   "cell_type": "code",
   "execution_count": 29,
   "metadata": {},
   "outputs": [],
   "source": [
    "import pika \n",
    "\n"
   ]
  },
  {
   "cell_type": "code",
   "execution_count": 30,
   "metadata": {},
   "outputs": [
    {
     "name": "stdout",
     "output_type": "stream",
     "text": [
      " [x] Sent 'Hello World!'\n"
     ]
    }
   ],
   "source": [
    "credentials = pika.PlainCredentials(\"ua1\", \"ua1\")\n",
    "\n",
    "parameters = pika.ConnectionParameters('128.196.142.13', 5672, '/')\n",
    "\n",
    "connection = pika.BlockingConnection(parameters)\n",
    "\n",
    "\n",
    "\n",
    "\n",
    "channel = connection.channel()\n",
    "\n",
    "channel.queue_declare(queue='hello')\n",
    "\n",
    "channel.basic_publish(exchange='', routing_key='hello', body='Hello World!')\n",
    "print(\" [x] Sent 'Hello World!'\")\n",
    "connection.close()"
   ]
  },
  {
   "cell_type": "code",
   "execution_count": null,
   "metadata": {},
   "outputs": [],
   "source": []
  }
 ],
 "metadata": {
  "kernelspec": {
   "display_name": "Python 3",
   "language": "python",
   "name": "python3"
  },
  "language_info": {
   "codemirror_mode": {
    "name": "ipython",
    "version": 3
   },
   "file_extension": ".py",
   "mimetype": "text/x-python",
   "name": "python",
   "nbconvert_exporter": "python",
   "pygments_lexer": "ipython3",
   "version": "3.7.6"
  }
 },
 "nbformat": 4,
 "nbformat_minor": 4
}
